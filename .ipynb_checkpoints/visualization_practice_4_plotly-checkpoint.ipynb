{
 "cells": [
  {
   "cell_type": "markdown",
   "id": "1aae0ba5",
   "metadata": {},
   "source": [
    "**In this homework you can work in groups of 6 students max. For example, it can be the same group that you have for your final project.**\n",
    "\n",
    "**When sending your completed task, please submit only one notebook per group and list all the members of your group somewhere.**"
   ]
  },
  {
   "cell_type": "markdown",
   "id": "bcea4d51",
   "metadata": {},
   "source": [
    "In any large, dynamically developing city, the problem of organizing a public transport system is acute. One of the most successful solutions, especially for large cities with a high density of ground transportation, is the subway. At the same time, the success of the built metro system can be measured by the flow of passengers. Therefore, try to identify factors that could explain the differences in metro passenger flows in different cities around the world, and provide one (or more) visuals to describe this phenomenon (using Plotly charts). It is suggested to use the World Metro Database (https://www.kaggle.com/datasets/timmofeyy/-world-metro) data table (attached) as a basis for working on this problem. In this table, passenger flows and fares per metro trip in different cities are available, as well as some other characteristics of the metro itself (number of stations, voltage and type of power supply, etc.). However, this table does not contain all the characteristics that could explain the generation of passenger flow values. Therefore, you will need to justify how these and additional factors could affect the variable you are studying, and you may need to find data sources on the Internet from which to obtain the necessary information (for example, you may need to research fares). Submit your Jupyter Notebook with your question(s) and visuals (one submission per group).\""
   ]
  }
 ],
 "metadata": {
  "kernelspec": {
   "display_name": "Python 3 (ipykernel)",
   "language": "python",
   "name": "python3"
  },
  "language_info": {
   "codemirror_mode": {
    "name": "ipython",
    "version": 3
   },
   "file_extension": ".py",
   "mimetype": "text/x-python",
   "name": "python",
   "nbconvert_exporter": "python",
   "pygments_lexer": "ipython3",
   "version": "3.9.13"
  }
 },
 "nbformat": 4,
 "nbformat_minor": 5
}
